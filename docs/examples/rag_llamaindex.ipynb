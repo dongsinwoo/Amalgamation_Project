{
  "cells": [
    {
      "cell_type": "markdown",
      "metadata": {
        "id": "lvpxjKCqIQZT"
      },
      "source": [
        "<a href=\"https://colab.research.google.com/github/docling-project/docling/blob/main/docs/examples/rag_llamaindex.ipynb\" target=\"_parent\"><img src=\"https://colab.research.google.com/assets/colab-badge.svg\" alt=\"Open In Colab\"/></a>"
      ]
    },
    {
      "cell_type": "code",
      "source": [
        "from google.colab import drive\n",
        "drive.mount('/content/drive')"
      ],
      "metadata": {
        "colab": {
          "base_uri": "https://localhost:8080/"
        },
        "id": "dEJzZQWmIUw-",
        "outputId": "08333dd2-2af2-40ff-c1f2-13f4aaa086aa"
      },
      "execution_count": 1,
      "outputs": [
        {
          "output_type": "stream",
          "name": "stdout",
          "text": [
            "Mounted at /content/drive\n"
          ]
        }
      ]
    },
    {
      "cell_type": "markdown",
      "metadata": {
        "id": "AWHeso1xIQZU"
      },
      "source": [
        "# RAG with LlamaIndex"
      ]
    },
    {
      "cell_type": "markdown",
      "metadata": {
        "id": "MPU1SGVSIQZU"
      },
      "source": [
        "| Step | Tech | Execution |\n",
        "| --- | --- | --- |\n",
        "| Embedding | Hugging Face / Sentence Transformers | 💻 Local |\n",
        "| Vector store | Milvus | 💻 Local |\n",
        "| Gen AI | Hugging Face Inference API | 🌐 Remote |"
      ]
    },
    {
      "cell_type": "markdown",
      "metadata": {
        "id": "VHHthssbIQZV"
      },
      "source": [
        "## Overview"
      ]
    },
    {
      "cell_type": "markdown",
      "metadata": {
        "id": "TDJWYMRUIQZV"
      },
      "source": [
        "This example leverages the official [LlamaIndex Docling extension](../../integrations/llamaindex/).\n",
        "\n",
        "Presented extensions `DoclingReader` and `DoclingNodeParser` enable you to:\n",
        "- use various document types in your LLM applications with ease and speed, and\n",
        "- leverage Docling's rich format for advanced, document-native grounding."
      ]
    },
    {
      "cell_type": "markdown",
      "metadata": {
        "id": "qjJN5PMRIQZV"
      },
      "source": [
        "## Setup"
      ]
    },
    {
      "cell_type": "markdown",
      "metadata": {
        "id": "HWF77z5wIQZV"
      },
      "source": [
        "- 👉 For best conversion speed, use GPU acceleration whenever available; e.g. if running on Colab, use GPU-enabled runtime.\n",
        "- Notebook uses HuggingFace's Inference API; for increased LLM quota, token can be provided via env var `HF_TOKEN`.\n",
        "- Requirements can be installed as shown below (`--no-warn-conflicts` meant for Colab's pre-populated Python env; feel free to remove for stricter usage):"
      ]
    },
    {
      "cell_type": "code",
      "execution_count": 1,
      "metadata": {
        "colab": {
          "base_uri": "https://localhost:8080/"
        },
        "id": "7idSbJG7IQZW",
        "outputId": "713d04a0-cb10-49d8-9ad4-17cf25e3b316"
      },
      "outputs": [
        {
          "output_type": "stream",
          "name": "stdout",
          "text": [
            "  Preparing metadata (setup.py) ... \u001b[?25l\u001b[?25hdone\n",
            "  Building wheel for pylatexenc (setup.py) ... \u001b[?25l\u001b[?25hdone\n"
          ]
        }
      ],
      "source": [
        "%pip install -q --progress-bar off --no-warn-conflicts llama-index-core llama-index-readers-docling llama-index-node-parser-docling llama-index-embeddings-huggingface llama-index-llms-huggingface-api llama-index-vector-stores-milvus llama-index-readers-file python-dotenv"
      ]
    },
    {
      "cell_type": "code",
      "execution_count": 2,
      "metadata": {
        "id": "-skydmubIQZX"
      },
      "outputs": [],
      "source": [
        "import os\n",
        "from pathlib import Path\n",
        "from tempfile import mkdtemp\n",
        "from warnings import filterwarnings\n",
        "\n",
        "from dotenv import load_dotenv\n",
        "\n",
        "\n",
        "def _get_env_from_colab_or_os(key):\n",
        "    try:\n",
        "        from google.colab import userdata\n",
        "\n",
        "        try:\n",
        "            return userdata.get(key)\n",
        "        except userdata.SecretNotFoundError:\n",
        "            pass\n",
        "    except ImportError:\n",
        "        pass\n",
        "    return os.getenv(key)\n",
        "\n",
        "\n",
        "load_dotenv()\n",
        "\n",
        "filterwarnings(action=\"ignore\", category=UserWarning, module=\"pydantic\")\n",
        "filterwarnings(action=\"ignore\", category=FutureWarning, module=\"easyocr\")\n",
        "# https://github.com/huggingface/transformers/issues/5486:\n",
        "os.environ[\"TOKENIZERS_PARALLELISM\"] = \"false\""
      ]
    },
    {
      "cell_type": "markdown",
      "metadata": {
        "id": "eaINOdeTIQZX"
      },
      "source": [
        "We can now define the main parameters:"
      ]
    },
    {
      "cell_type": "code",
      "source": [
        "SOURCE = \"/content/강의계획서(학사).pdf\"  # Docling Technical Report\n",
        "QUERY = \"학습 목표와 학습 내용은?\""
      ],
      "metadata": {
        "id": "PcyPLt16L-UB"
      },
      "execution_count": 12,
      "outputs": []
    },
    {
      "cell_type": "code",
      "execution_count": 13,
      "metadata": {
        "id": "ddM9XY8EIQZX"
      },
      "outputs": [],
      "source": [
        "from llama_index.embeddings.huggingface import HuggingFaceEmbedding\n",
        "from llama_index.llms.huggingface_api import HuggingFaceInferenceAPI\n",
        "\n",
        "EMBED_MODEL = HuggingFaceEmbedding(model_name=\"BAAI/bge-small-en-v1.5\")\n",
        "MILVUS_URI = str(Path(mkdtemp()) / \"docling.db\")\n",
        "GEN_MODEL = HuggingFaceInferenceAPI(\n",
        "    token=_get_env_from_colab_or_os(\"HF_TOKEN\"),\n",
        "    model_name=\"mistralai/Mixtral-8x7B-Instruct-v0.1\",\n",
        ")\n",
        "SOURCE = \"/content/강의계획서(학사).pdf\"  # Docling Technical Report\n",
        "QUERY = \"학습 목표와 학습 내용은?\"\n",
        "\n",
        "embed_dim = len(EMBED_MODEL.get_text_embedding(\"hi\"))"
      ]
    },
    {
      "cell_type": "markdown",
      "metadata": {
        "id": "JyEBKR1fIQZX"
      },
      "source": [
        "## Using Markdown export"
      ]
    },
    {
      "cell_type": "markdown",
      "metadata": {
        "id": "WK2f69-bIQZX"
      },
      "source": [
        "To create a simple RAG pipeline, we can:\n",
        "- define a `DoclingReader`, which by default exports to Markdown, and\n",
        "- use a standard node parser for these Markdown-based docs, e.g. a `MarkdownNodeParser`"
      ]
    },
    {
      "cell_type": "code",
      "execution_count": 14,
      "metadata": {
        "colab": {
          "base_uri": "https://localhost:8080/",
          "height": 1000
        },
        "id": "i7QIwZWgIQZX",
        "outputId": "7f76ee2f-11d2-4d55-e315-303453f0441a"
      },
      "outputs": [
        {
          "output_type": "stream",
          "name": "stderr",
          "text": [
            "2025-03-25 02:51:28,686 [DEBUG][_create_connection]: Created new connection using: 0478f75597f74cf5b47d7394553c7899 (async_milvus_client.py:600)\n",
            "WARNING:easyocr.easyocr:Downloading detection model, please wait. This may take several minutes depending upon your network connection.\n",
            "WARNING:easyocr.easyocr:Downloading recognition model, please wait. This may take several minutes depending upon your network connection.\n",
            "/usr/local/lib/python3.11/dist-packages/torch/utils/cpp_extension.py:2059: UserWarning: TORCH_CUDA_ARCH_LIST is not set, all archs for visible cards are included for compilation. \n",
            "If this is not desired, please set os.environ['TORCH_CUDA_ARCH_LIST'].\n",
            "  warnings.warn(\n"
          ]
        },
        {
          "output_type": "stream",
          "name": "stdout",
          "text": [
            "Q: 학습 목표와 학습 내용은?\n",
            "A: The learning goals and contents are as follows:\n",
            "\n",
            "Week 1:\n",
            "- Learning goal: Understand the learning objectives, get introduced to artificial intelligence search, and learn about the course plan and project execution method.\n",
            "- Learning content: Introduction to the course, learning objectives, artificial intelligence search introduction, course plan, project execution method, and importance of artificial intelligence search.\n",
            "\n",
            "Week 2:\n",
            "- Learning goal: Learn about major data search methods.\n",
            "- Learning content: Keywords, vector space, probability, database schema, Elasticsearch.\n",
            "\n",
            "Week 3:\n",
            "- Learning goal: Understand the principles of artificial intelligence-based data search.\n",
            "- Learning content: Tokens, document loader, embedding, vector storage, text division.\n",
            "\n",
            "Week 4:\n",
            "- Learning goal: Learn about search enhancement and generation (RAG) search methods.\n",
            "- Learning content: Vector store, context compression, ensemble, long context rewriting, and part-of-speech.\n",
            "\n",
            "Week 5:\n",
            "- Learning goal: Understand the concept of AI agents (Agentic AI).\n",
            "- Learning content: AI agent (Agentic AI) concept, recognition, decision-making, and action performance.\n",
            "\n",
            "Week\n",
            "\n",
            "Sources:\n"
          ]
        },
        {
          "output_type": "display_data",
          "data": {
            "text/plain": [
              "[('## ◆주별수업계획\\n\\n| 주        | 구간                | 수업내용                                                                                                    | 교수학습 방법   | 교재/자료   | 비고   |\\n|-----------|---------------------|-------------------------------------------------------------------------------------------------------------|-----------------|-------------|--------|\\n| 1주       | 03/04~ 03/10        | 학습목표 강의소개및인공지능검색소개 학습내용 강의계획및프로젝트진행방법,인공지능 검색중요성                 |                 |             |        |\\n| 2주       | 03/11~ 03/17        | 학습목표 주요자료검색방법 학습내용 키워드, 벡터공간, 확률, 데이터베이스 스키마 , 일래스틱서치               |                 |             |        |\\n| 3주       | 03/18~ 03/24        | 학습목표 인공지능기반자료검색원리 학습내용 토큰, 문서 로더, 임베딩, 벡터저장소, 텍스트 분할                 |                 |             |        |\\n| 4주       | 03/25~ 03/31        | 학습목표 검색증강생성(RAG) 검색 방법 학습내용 벡터스토어,문맥압축,앙상블,긴문맥재정 렬, 형태소              |                 |             |        |\\n| 5주       | 04/01~ 04/07        | 학습목표 AI 에이전트 (Agentic AI) 개념 학습내용 AI 에이전트 (Agentic AI) 개념, 인식, 의사결 정, 행동 수행   |                 |             |        |\\n| 6주       | 04/08~ 04/14        | 학습목표 AI 에이전트 구현 프레임워크 소개 학습내용 랭체인, 라마인덱스, 헤이스택, 시맨틱커널                 |                 |             |        |\\n| 7주       | 04/15~ 04/21        | 학습목표 AI 에이전트 구현 실습 학습내용 팀구성및역할할당,AI에이전트팀별진행                                 |                 |             |        |\\n| 8주       | 04/22~ 04/28        | 학습목표 프로젝트중간발표 학습내용 팀별AI 에이전트 계획발표                                                 |                 |             |        |\\n| 9주       | 04/29~ 05/05        | 학습목표 팀별AI 에이전트 계획검토 학습내용 팀별AI 에이전트 계획문제점 개선방법토론                          |                 |             |        |\\n| 10주      | 05/06~ 05/12        | 학습목표 팀별AI 에이전트 개발시작수준 검토 학습내용 팀별AI 에이전트 개발착수발표                            |                 |             |        |\\n| 11주      | 05/13~ 05/19        | 학습목표 팀별AI 에이전트 개발진행상황 1차 검토 학습내용 팀별AI 에이전트 개발이슈검토 및개선방               |                 |             |        |\\n| 12주 13주 | 05/20~ 05/26        | 안토론 학습목표 팀별AI 에이전트 개발진행상황 2차 검토 학습내용 팀별AI 에이전트 개발이슈검토 및개선방 안토론 |                 |             |        |\\n|           | 05/27~ 06/02        | 학습목표 팀별AI 에이전트 진행중간수준 검토 학습내용 팀별AI 에이전트 개발중간발표                            |                 |             |        |\\n| 14주      | 06/03~ 06/09        | 학습목표 팀별AI 에이전트 개발진행상황 3차 검토                                                              |                 |             |        |\\n|           |                     | 학습내용 팀별AI 에이전트 개발이슈검토 및개선방 안토론                                                       |                 |             |        |\\n|           | 보강주 06/10~ 06/16 | 학습목표 결손수업에대한보강. 학습내용                                                                       |                 |             |        |\\n| 15주      | 06/17~ 06/23        | 학습목표 프로젝트최종발표 학습내용 팀별AI 에이전트 최종결과제시 및평가                                      |                 |             |        |',\n",
              "  {'header_path': '/'}),\n",
              " ('## 강의계획서(학사)\\n\\n◆강의내용\\n\\n| 교과목명                     | 융합프로젝트Ⅰ                                                                                                                                                                                                                                      |                  |                          |                      |               | 교과목코드          |      | 0009824              |                                  | 분반     |                  | 001   |          |\\n|------------------------------|----------------------------------------------------------------------------------------------------------------------------------------------------------------------------------------------------------------------------------------------------|------------------|--------------------------|----------------------|---------------|---------------------|------|----------------------|----------------------------------|----------|------------------|-------|----------|\\n|                              | Convergence ProjectsⅠ                                                                                                                                                                                                                              |                  |                          |                      |               |                     |      |                      |                                  |          |                  |       |          |\\n| 개설학과                     | 항공컴퓨터학과                                                                                                                                                                                                                                     |                  |                          |                      |               | 개설학년            |      | 4학년                |                                  |          |                  |       |          |\\n| 과목구분                     | 일반과목                                                                                                                                                                                                                                           |                  |                          |                      |               | 학점/시수           |      | 3 / 3                |                                  |          |                  |       |          |\\n| 강의시간단위(분)             | 30분                                                                                                                                                                                                                                               |                  |                          | 강의실               |               | 네트워크설계실 습실 |      | 강의형태             |                                  |          | 일반강의         |       |          |\\n| 전공능력                     | 파이썬프로그래밍                                                                                                                                                                                                                                   |                  |                          | 인공지능기반검색기법 |               |                     |      |                      |                                  |          | 인공지능에이전트 |       |          |\\n| 담당교수                     | 이훈희                                                                                                                                                                                                                                             |                  |                          |                      |               | 소속                |      | 항공AI소프트웨어학과 |                                  |          |                  |       |          |\\n| E-mail                       | hhlee@hanseo.ac.kr                                                                                                                                                                                                                                 |                  |                          |                      |               | 전화번호            |      | 041-660-1363         |                                  |          |                  |       |          |\\n| 상담가능시간                 | 1400                                                                                                                                                                                                                                               |                  |                          |                      |               | 상담가능장소        |      | 공학관506            |                                  |          |                  |       |          |\\n| ◆교과목개요(Course Overview) |                                                                                                                                                                                                                                                    |                  |                          |                      |               |                     |      |                      |                                  |          |                  |       |          |\\n| 수업개요                     | 본수업은인공지능및자료검색입문자를대상으로인공지능기반의최신검색원리와개념을쉽게이 해하 고AI 에이전트 프레임워크를 활용한 인공지능 검색 실습을 통하여 복잡하고 모호한 검색어를 통해 유 의미한검색을가능하게하는기본AI소양을습득한다. 갖추도록한다. |                  |                          |                      |               |                     |      |                      |                                  |          |                  |       |          |\\n| 수업목표                     | - 최신 자료 검색을 위한 AI의 기술의 원리와 개념 이해 - 자연어 처리에 대한 기본적인 개념 이해 - AI 에이전트를 이용한 인공지능 검색의 흐름 이해                                                                                                      |                  |                          |                      |               |                     |      |                      |                                  |          |                  |       |          |\\n| 과목구분                     | 선수과목명                                                                                                                                                                                                                                         |                  |                          | 없음                 |               | 선수과목코드        |      |                      |                                  |          |                  |       |          |\\n| 교수학습 방 법               | 이론강의                                                                                                                                                                                                                                           | 실험/ 실습강의   |                          | 발표                 | 토론          |                     | 인   |                      | 팀프로젝트 캡스톤디자 포트폴리오 |          |                  |       | 현장실습 |\\n|                              | O                                                                                                                                                                                                                                                  | O                |                          | O                    |               | O                   |      |                      |                                  |          |                  |       |          |\\n|                              | PBL                                                                                                                                                                                                                                                | Flipped Learning |                          | blended Learning     | Team Teaching | 집중수업            |      |                      |                                  |          |                  |       |          |\\n|                              |                                                                                                                                                                                                                                                    |                  |                          | O                    |               |                     |      |                      |                                  |          |                  |       |          |\\n| 평가방법 및 반영비율         | 평가방법                                                                                                                                                                                                                                           | 출석             |                          | 중간고사             | 기말고사      | 과제및기타학습      |      |                      |                                  |          |                  |       |          |\\n|                              |                                                                                                                                                                                                                                                    |                  |                          |                      |               | 과제                | 발표 | 팀활동               |                                  | 수행평가 |                  | 소계  |          |\\n|                              | 상대평가                                                                                                                                                                                                                                           | 20.00            |                          | 40.00                | 40.00         | 0.00                | 0.00 | 0.00                 |                                  | 0.00     |                  |       | 0.00     |\\n| 수 강 시 유의사항            | 주별수업계획은수업상황에따라일부변동될수있음 강의                                                                                                                                                                                                  |                  |                          |                      |               |                     |      |                      |                                  | 외국어   |                  |       |          |\\n| 소수학생 지원사항 ◆교재      | 장애학생학습지원및평가조정지원:수업자료확대인쇄및별도제공,대필지원,지정좌석배정,시험시 간조정등 : 수업자료 및 시험지 확대, 대필 지원 등 / 시각장애 청각장애:강의파일제공,강의실좌석배치/                                                           |                  |                          |                      |               |                     |      |                      |                                  |          |                  |       |          |\\n| 주 교                        | 지체및뇌병변장애:이동지원및평가조정등/                                                                                                                                                                                                             |                  | 기타장애:맞춤형지원 제목 |                      |               |                     |      |                      |                                  |          |                  |       |          |\\n|                              | 저자                                                                                                                                                                                                                                               |                  | 재 출판사,출판년도       |                      |               |                     |      |                      |                                  |          |                  |       |          |\\n| 부 교 재                     |                                                                                                                                                                                                                                                    |                  | 제목                     |                      |               |                     |      |                      |                                  |          |                  |       |          |\\n|                              |                                                                                                                                                                                                                                                    |                  | 저자                     |                      |               |                     |      |                      |                                  |          |                  |       |          |\\n|                              |                                                                                                                                                                                                                                                    |                  | 출판사,출판년도          |                      |               |                     |      |                      |                                  |          |                  |       |          |\\n\\n2025년도 1학기',\n",
              "  {'header_path': '/'})]"
            ]
          },
          "metadata": {}
        }
      ],
      "source": [
        "from llama_index.core import StorageContext, VectorStoreIndex\n",
        "from llama_index.core.node_parser import MarkdownNodeParser\n",
        "from llama_index.readers.docling import DoclingReader\n",
        "from llama_index.vector_stores.milvus import MilvusVectorStore\n",
        "\n",
        "reader = DoclingReader()\n",
        "node_parser = MarkdownNodeParser()\n",
        "\n",
        "vector_store = MilvusVectorStore(\n",
        "    uri=str(Path(mkdtemp()) / \"docling.db\"),  # or set as needed\n",
        "    dim=embed_dim,\n",
        "    overwrite=True,\n",
        ")\n",
        "index = VectorStoreIndex.from_documents(\n",
        "    documents=reader.load_data(SOURCE),\n",
        "    transformations=[node_parser],\n",
        "    storage_context=StorageContext.from_defaults(vector_store=vector_store),\n",
        "    embed_model=EMBED_MODEL,\n",
        ")\n",
        "result = index.as_query_engine(llm=GEN_MODEL).query(QUERY)\n",
        "print(f\"Q: {QUERY}\\nA: {result.response.strip()}\\n\\nSources:\")\n",
        "display([(n.text, n.metadata) for n in result.source_nodes])"
      ]
    },
    {
      "cell_type": "markdown",
      "metadata": {
        "id": "zEMB2RsyIQZX"
      },
      "source": [
        "## Using Docling format"
      ]
    },
    {
      "cell_type": "markdown",
      "metadata": {
        "id": "w8SEZPkMIQZX"
      },
      "source": [
        "To leverage Docling's rich native format, we:\n",
        "- create a `DoclingReader` with JSON export type, and\n",
        "- employ a `DoclingNodeParser` in order to appropriately parse that Docling format.\n",
        "\n",
        "Notice how the sources now also contain document-level grounding (e.g. page number or bounding box information):"
      ]
    },
    {
      "cell_type": "code",
      "execution_count": 15,
      "metadata": {
        "colab": {
          "base_uri": "https://localhost:8080/",
          "height": 805
        },
        "id": "VQpxP7yPIQZX",
        "outputId": "a79d461b-dc8b-4b46-8fd1-efc8de3c55e2"
      },
      "outputs": [
        {
          "output_type": "stream",
          "name": "stderr",
          "text": [
            "2025-03-25 02:57:49,479 [DEBUG][_create_connection]: Created new connection using: ca487063292842369aa6974ab0d52e25 (async_milvus_client.py:600)\n"
          ]
        },
        {
          "output_type": "stream",
          "name": "stdout",
          "text": [
            "Q: 학습 목표와 학습 내용은?\n",
            "A: The learning goals and content can be found under the heading \"강의내용\" (course content) in the context. The learning goals are not explicitly stated, but they can be inferred from the course content provided. The course content includes topics such as the basics of programming, data structures, algorithms, and software development, among others.\n",
            "\n",
            "Sources:\n"
          ]
        },
        {
          "output_type": "display_data",
          "data": {
            "text/plain": [
              "[('◆강의내용',\n",
              "  {'schema_name': 'docling_core.transforms.chunker.DocMeta',\n",
              "   'version': '1.0.0',\n",
              "   'doc_items': [{'self_ref': '#/texts/1',\n",
              "     'parent': {'$ref': '#/body'},\n",
              "     'children': [],\n",
              "     'content_layer': 'body',\n",
              "     'label': 'text',\n",
              "     'prov': [{'page_no': 1,\n",
              "       'bbox': {'l': 28.35,\n",
              "        't': 739.18,\n",
              "        'r': 77.46,\n",
              "        'b': 731.041,\n",
              "        'coord_origin': 'BOTTOMLEFT'},\n",
              "       'charspan': [0, 5]}]}],\n",
              "   'headings': ['강의계획서(학사)'],\n",
              "   'origin': {'mimetype': 'application/pdf',\n",
              "    'binary_hash': 13855459962613527174,\n",
              "    'filename': '강의계획서(학사).pdf'}}),\n",
              " ('시기, 1 = 내용. 시기, 2 = 시험방법/제출방법. 시기, 3 = 평가기준',\n",
              "  {'schema_name': 'docling_core.transforms.chunker.DocMeta',\n",
              "   'version': '1.0.0',\n",
              "   'doc_items': [{'self_ref': '#/tables/2',\n",
              "     'parent': {'$ref': '#/body'},\n",
              "     'children': [],\n",
              "     'content_layer': 'body',\n",
              "     'label': 'table',\n",
              "     'prov': [{'page_no': 2,\n",
              "       'bbox': {'l': 27.108963012695312,\n",
              "        't': 186.52886962890625,\n",
              "        'r': 567.1644897460938,\n",
              "        'b': 144.97955322265625,\n",
              "        'coord_origin': 'BOTTOMLEFT'},\n",
              "       'charspan': [0, 0]}]}],\n",
              "   'headings': ['◆시험및과제제출'],\n",
              "   'origin': {'mimetype': 'application/pdf',\n",
              "    'binary_hash': 13855459962613527174,\n",
              "    'filename': '강의계획서(학사).pdf'}})]"
            ]
          },
          "metadata": {}
        }
      ],
      "source": [
        "from llama_index.node_parser.docling import DoclingNodeParser\n",
        "\n",
        "reader = DoclingReader(export_type=DoclingReader.ExportType.JSON)\n",
        "node_parser = DoclingNodeParser()\n",
        "\n",
        "vector_store = MilvusVectorStore(\n",
        "    uri=str(Path(mkdtemp()) / \"docling.db\"),  # or set as needed\n",
        "    dim=embed_dim,\n",
        "    overwrite=True,\n",
        ")\n",
        "index = VectorStoreIndex.from_documents(\n",
        "    documents=reader.load_data(SOURCE),\n",
        "    transformations=[node_parser],\n",
        "    storage_context=StorageContext.from_defaults(vector_store=vector_store),\n",
        "    embed_model=EMBED_MODEL,\n",
        ")\n",
        "result = index.as_query_engine(llm=GEN_MODEL).query(QUERY)\n",
        "print(f\"Q: {QUERY}\\nA: {result.response.strip()}\\n\\nSources:\")\n",
        "display([(n.text, n.metadata) for n in result.source_nodes])"
      ]
    },
    {
      "cell_type": "markdown",
      "metadata": {
        "id": "AJjsw-EUIQZY"
      },
      "source": [
        "## With Simple Directory Reader"
      ]
    },
    {
      "cell_type": "markdown",
      "metadata": {
        "id": "vtmuqpG3IQZY"
      },
      "source": [
        "To demonstrate this usage pattern, we first set up a test document directory."
      ]
    },
    {
      "cell_type": "code",
      "execution_count": 16,
      "metadata": {
        "colab": {
          "base_uri": "https://localhost:8080/",
          "height": 365
        },
        "id": "t_lSDOX_IQZY",
        "outputId": "549f828d-3849-4415-ccec-85aa4570de2e"
      },
      "outputs": [
        {
          "output_type": "error",
          "ename": "MissingSchema",
          "evalue": "Invalid URL '/content/강의계획서(학사).pdf': No scheme supplied. Perhaps you meant https:///content/강의계획서(학사).pdf?",
          "traceback": [
            "\u001b[0;31m---------------------------------------------------------------------------\u001b[0m",
            "\u001b[0;31mMissingSchema\u001b[0m                             Traceback (most recent call last)",
            "\u001b[0;32m<ipython-input-16-1d5c20b67669>\u001b[0m in \u001b[0;36m<cell line: 0>\u001b[0;34m()\u001b[0m\n\u001b[1;32m      5\u001b[0m \u001b[0;34m\u001b[0m\u001b[0m\n\u001b[1;32m      6\u001b[0m \u001b[0mtmp_dir_path\u001b[0m \u001b[0;34m=\u001b[0m \u001b[0mPath\u001b[0m\u001b[0;34m(\u001b[0m\u001b[0mmkdtemp\u001b[0m\u001b[0;34m(\u001b[0m\u001b[0;34m)\u001b[0m\u001b[0;34m)\u001b[0m\u001b[0;34m\u001b[0m\u001b[0;34m\u001b[0m\u001b[0m\n\u001b[0;32m----> 7\u001b[0;31m \u001b[0mr\u001b[0m \u001b[0;34m=\u001b[0m \u001b[0mrequests\u001b[0m\u001b[0;34m.\u001b[0m\u001b[0mget\u001b[0m\u001b[0;34m(\u001b[0m\u001b[0mSOURCE\u001b[0m\u001b[0;34m)\u001b[0m\u001b[0;34m\u001b[0m\u001b[0;34m\u001b[0m\u001b[0m\n\u001b[0m\u001b[1;32m      8\u001b[0m \u001b[0;32mwith\u001b[0m \u001b[0mopen\u001b[0m\u001b[0;34m(\u001b[0m\u001b[0mtmp_dir_path\u001b[0m \u001b[0;34m/\u001b[0m \u001b[0;34mf\"{Path(SOURCE).name}.pdf\"\u001b[0m\u001b[0;34m,\u001b[0m \u001b[0;34m\"wb\"\u001b[0m\u001b[0;34m)\u001b[0m \u001b[0;32mas\u001b[0m \u001b[0mout_file\u001b[0m\u001b[0;34m:\u001b[0m\u001b[0;34m\u001b[0m\u001b[0;34m\u001b[0m\u001b[0m\n\u001b[1;32m      9\u001b[0m     \u001b[0mout_file\u001b[0m\u001b[0;34m.\u001b[0m\u001b[0mwrite\u001b[0m\u001b[0;34m(\u001b[0m\u001b[0mr\u001b[0m\u001b[0;34m.\u001b[0m\u001b[0mcontent\u001b[0m\u001b[0;34m)\u001b[0m\u001b[0;34m\u001b[0m\u001b[0;34m\u001b[0m\u001b[0m\n",
            "\u001b[0;32m/usr/local/lib/python3.11/dist-packages/requests/api.py\u001b[0m in \u001b[0;36mget\u001b[0;34m(url, params, **kwargs)\u001b[0m\n\u001b[1;32m     71\u001b[0m     \"\"\"\n\u001b[1;32m     72\u001b[0m \u001b[0;34m\u001b[0m\u001b[0m\n\u001b[0;32m---> 73\u001b[0;31m     \u001b[0;32mreturn\u001b[0m \u001b[0mrequest\u001b[0m\u001b[0;34m(\u001b[0m\u001b[0;34m\"get\"\u001b[0m\u001b[0;34m,\u001b[0m \u001b[0murl\u001b[0m\u001b[0;34m,\u001b[0m \u001b[0mparams\u001b[0m\u001b[0;34m=\u001b[0m\u001b[0mparams\u001b[0m\u001b[0;34m,\u001b[0m \u001b[0;34m**\u001b[0m\u001b[0mkwargs\u001b[0m\u001b[0;34m)\u001b[0m\u001b[0;34m\u001b[0m\u001b[0;34m\u001b[0m\u001b[0m\n\u001b[0m\u001b[1;32m     74\u001b[0m \u001b[0;34m\u001b[0m\u001b[0m\n\u001b[1;32m     75\u001b[0m \u001b[0;34m\u001b[0m\u001b[0m\n",
            "\u001b[0;32m/usr/local/lib/python3.11/dist-packages/requests/api.py\u001b[0m in \u001b[0;36mrequest\u001b[0;34m(method, url, **kwargs)\u001b[0m\n\u001b[1;32m     57\u001b[0m     \u001b[0;31m# cases, and look like a memory leak in others.\u001b[0m\u001b[0;34m\u001b[0m\u001b[0;34m\u001b[0m\u001b[0m\n\u001b[1;32m     58\u001b[0m     \u001b[0;32mwith\u001b[0m \u001b[0msessions\u001b[0m\u001b[0;34m.\u001b[0m\u001b[0mSession\u001b[0m\u001b[0;34m(\u001b[0m\u001b[0;34m)\u001b[0m \u001b[0;32mas\u001b[0m \u001b[0msession\u001b[0m\u001b[0;34m:\u001b[0m\u001b[0;34m\u001b[0m\u001b[0;34m\u001b[0m\u001b[0m\n\u001b[0;32m---> 59\u001b[0;31m         \u001b[0;32mreturn\u001b[0m \u001b[0msession\u001b[0m\u001b[0;34m.\u001b[0m\u001b[0mrequest\u001b[0m\u001b[0;34m(\u001b[0m\u001b[0mmethod\u001b[0m\u001b[0;34m=\u001b[0m\u001b[0mmethod\u001b[0m\u001b[0;34m,\u001b[0m \u001b[0murl\u001b[0m\u001b[0;34m=\u001b[0m\u001b[0murl\u001b[0m\u001b[0;34m,\u001b[0m \u001b[0;34m**\u001b[0m\u001b[0mkwargs\u001b[0m\u001b[0;34m)\u001b[0m\u001b[0;34m\u001b[0m\u001b[0;34m\u001b[0m\u001b[0m\n\u001b[0m\u001b[1;32m     60\u001b[0m \u001b[0;34m\u001b[0m\u001b[0m\n\u001b[1;32m     61\u001b[0m \u001b[0;34m\u001b[0m\u001b[0m\n",
            "\u001b[0;32m/usr/local/lib/python3.11/dist-packages/requests/sessions.py\u001b[0m in \u001b[0;36mrequest\u001b[0;34m(self, method, url, params, data, headers, cookies, files, auth, timeout, allow_redirects, proxies, hooks, stream, verify, cert, json)\u001b[0m\n\u001b[1;32m    573\u001b[0m             \u001b[0mhooks\u001b[0m\u001b[0;34m=\u001b[0m\u001b[0mhooks\u001b[0m\u001b[0;34m,\u001b[0m\u001b[0;34m\u001b[0m\u001b[0;34m\u001b[0m\u001b[0m\n\u001b[1;32m    574\u001b[0m         )\n\u001b[0;32m--> 575\u001b[0;31m         \u001b[0mprep\u001b[0m \u001b[0;34m=\u001b[0m \u001b[0mself\u001b[0m\u001b[0;34m.\u001b[0m\u001b[0mprepare_request\u001b[0m\u001b[0;34m(\u001b[0m\u001b[0mreq\u001b[0m\u001b[0;34m)\u001b[0m\u001b[0;34m\u001b[0m\u001b[0;34m\u001b[0m\u001b[0m\n\u001b[0m\u001b[1;32m    576\u001b[0m \u001b[0;34m\u001b[0m\u001b[0m\n\u001b[1;32m    577\u001b[0m         \u001b[0mproxies\u001b[0m \u001b[0;34m=\u001b[0m \u001b[0mproxies\u001b[0m \u001b[0;32mor\u001b[0m \u001b[0;34m{\u001b[0m\u001b[0;34m}\u001b[0m\u001b[0;34m\u001b[0m\u001b[0;34m\u001b[0m\u001b[0m\n",
            "\u001b[0;32m/usr/local/lib/python3.11/dist-packages/requests/sessions.py\u001b[0m in \u001b[0;36mprepare_request\u001b[0;34m(self, request)\u001b[0m\n\u001b[1;32m    482\u001b[0m \u001b[0;34m\u001b[0m\u001b[0m\n\u001b[1;32m    483\u001b[0m         \u001b[0mp\u001b[0m \u001b[0;34m=\u001b[0m \u001b[0mPreparedRequest\u001b[0m\u001b[0;34m(\u001b[0m\u001b[0;34m)\u001b[0m\u001b[0;34m\u001b[0m\u001b[0;34m\u001b[0m\u001b[0m\n\u001b[0;32m--> 484\u001b[0;31m         p.prepare(\n\u001b[0m\u001b[1;32m    485\u001b[0m             \u001b[0mmethod\u001b[0m\u001b[0;34m=\u001b[0m\u001b[0mrequest\u001b[0m\u001b[0;34m.\u001b[0m\u001b[0mmethod\u001b[0m\u001b[0;34m.\u001b[0m\u001b[0mupper\u001b[0m\u001b[0;34m(\u001b[0m\u001b[0;34m)\u001b[0m\u001b[0;34m,\u001b[0m\u001b[0;34m\u001b[0m\u001b[0;34m\u001b[0m\u001b[0m\n\u001b[1;32m    486\u001b[0m             \u001b[0murl\u001b[0m\u001b[0;34m=\u001b[0m\u001b[0mrequest\u001b[0m\u001b[0;34m.\u001b[0m\u001b[0murl\u001b[0m\u001b[0;34m,\u001b[0m\u001b[0;34m\u001b[0m\u001b[0;34m\u001b[0m\u001b[0m\n",
            "\u001b[0;32m/usr/local/lib/python3.11/dist-packages/requests/models.py\u001b[0m in \u001b[0;36mprepare\u001b[0;34m(self, method, url, headers, files, data, params, auth, cookies, hooks, json)\u001b[0m\n\u001b[1;32m    365\u001b[0m \u001b[0;34m\u001b[0m\u001b[0m\n\u001b[1;32m    366\u001b[0m         \u001b[0mself\u001b[0m\u001b[0;34m.\u001b[0m\u001b[0mprepare_method\u001b[0m\u001b[0;34m(\u001b[0m\u001b[0mmethod\u001b[0m\u001b[0;34m)\u001b[0m\u001b[0;34m\u001b[0m\u001b[0;34m\u001b[0m\u001b[0m\n\u001b[0;32m--> 367\u001b[0;31m         \u001b[0mself\u001b[0m\u001b[0;34m.\u001b[0m\u001b[0mprepare_url\u001b[0m\u001b[0;34m(\u001b[0m\u001b[0murl\u001b[0m\u001b[0;34m,\u001b[0m \u001b[0mparams\u001b[0m\u001b[0;34m)\u001b[0m\u001b[0;34m\u001b[0m\u001b[0;34m\u001b[0m\u001b[0m\n\u001b[0m\u001b[1;32m    368\u001b[0m         \u001b[0mself\u001b[0m\u001b[0;34m.\u001b[0m\u001b[0mprepare_headers\u001b[0m\u001b[0;34m(\u001b[0m\u001b[0mheaders\u001b[0m\u001b[0;34m)\u001b[0m\u001b[0;34m\u001b[0m\u001b[0;34m\u001b[0m\u001b[0m\n\u001b[1;32m    369\u001b[0m         \u001b[0mself\u001b[0m\u001b[0;34m.\u001b[0m\u001b[0mprepare_cookies\u001b[0m\u001b[0;34m(\u001b[0m\u001b[0mcookies\u001b[0m\u001b[0;34m)\u001b[0m\u001b[0;34m\u001b[0m\u001b[0;34m\u001b[0m\u001b[0m\n",
            "\u001b[0;32m/usr/local/lib/python3.11/dist-packages/requests/models.py\u001b[0m in \u001b[0;36mprepare_url\u001b[0;34m(self, url, params)\u001b[0m\n\u001b[1;32m    436\u001b[0m \u001b[0;34m\u001b[0m\u001b[0m\n\u001b[1;32m    437\u001b[0m         \u001b[0;32mif\u001b[0m \u001b[0;32mnot\u001b[0m \u001b[0mscheme\u001b[0m\u001b[0;34m:\u001b[0m\u001b[0;34m\u001b[0m\u001b[0;34m\u001b[0m\u001b[0m\n\u001b[0;32m--> 438\u001b[0;31m             raise MissingSchema(\n\u001b[0m\u001b[1;32m    439\u001b[0m                 \u001b[0;34mf\"Invalid URL {url!r}: No scheme supplied. \"\u001b[0m\u001b[0;34m\u001b[0m\u001b[0;34m\u001b[0m\u001b[0m\n\u001b[1;32m    440\u001b[0m                 \u001b[0;34mf\"Perhaps you meant https://{url}?\"\u001b[0m\u001b[0;34m\u001b[0m\u001b[0;34m\u001b[0m\u001b[0m\n",
            "\u001b[0;31mMissingSchema\u001b[0m: Invalid URL '/content/강의계획서(학사).pdf': No scheme supplied. Perhaps you meant https:///content/강의계획서(학사).pdf?"
          ]
        }
      ],
      "source": [
        "from pathlib import Path\n",
        "from tempfile import mkdtemp\n",
        "\n",
        "import requests\n",
        "\n",
        "tmp_dir_path = Path(mkdtemp())\n",
        "r = requests.get(SOURCE)\n",
        "with open(tmp_dir_path / f\"{Path(SOURCE).name}.pdf\", \"wb\") as out_file:\n",
        "    out_file.write(r.content)"
      ]
    },
    {
      "cell_type": "markdown",
      "metadata": {
        "id": "sDXhnGfYIQZY"
      },
      "source": [
        "Using the `reader` and `node_parser` definitions from any of the above variants, usage with `SimpleDirectoryReader` then looks as follows:"
      ]
    },
    {
      "cell_type": "code",
      "execution_count": 17,
      "metadata": {
        "colab": {
          "base_uri": "https://localhost:8080/",
          "height": 365
        },
        "id": "F-r18TWMIQZY",
        "outputId": "d5a0aa55-4c18-452c-f361-9922f1dbbb03"
      },
      "outputs": [
        {
          "output_type": "error",
          "ename": "ValueError",
          "evalue": "No files found in /tmp/tmpet7vpdr4.",
          "traceback": [
            "\u001b[0;31m---------------------------------------------------------------------------\u001b[0m",
            "\u001b[0;31mValueError\u001b[0m                                Traceback (most recent call last)",
            "\u001b[0;32m<ipython-input-17-5550c4909b65>\u001b[0m in \u001b[0;36m<cell line: 0>\u001b[0;34m()\u001b[0m\n\u001b[1;32m      1\u001b[0m \u001b[0;32mfrom\u001b[0m \u001b[0mllama_index\u001b[0m\u001b[0;34m.\u001b[0m\u001b[0mcore\u001b[0m \u001b[0;32mimport\u001b[0m \u001b[0mSimpleDirectoryReader\u001b[0m\u001b[0;34m\u001b[0m\u001b[0;34m\u001b[0m\u001b[0m\n\u001b[1;32m      2\u001b[0m \u001b[0;34m\u001b[0m\u001b[0m\n\u001b[0;32m----> 3\u001b[0;31m dir_reader = SimpleDirectoryReader(\n\u001b[0m\u001b[1;32m      4\u001b[0m     \u001b[0minput_dir\u001b[0m\u001b[0;34m=\u001b[0m\u001b[0mtmp_dir_path\u001b[0m\u001b[0;34m,\u001b[0m\u001b[0;34m\u001b[0m\u001b[0;34m\u001b[0m\u001b[0m\n\u001b[1;32m      5\u001b[0m     \u001b[0mfile_extractor\u001b[0m\u001b[0;34m=\u001b[0m\u001b[0;34m{\u001b[0m\u001b[0;34m\".pdf\"\u001b[0m\u001b[0;34m:\u001b[0m \u001b[0mreader\u001b[0m\u001b[0;34m}\u001b[0m\u001b[0;34m,\u001b[0m\u001b[0;34m\u001b[0m\u001b[0;34m\u001b[0m\u001b[0m\n",
            "\u001b[0;32m/usr/local/lib/python3.11/dist-packages/llama_index/core/readers/file/base.py\u001b[0m in \u001b[0;36m__init__\u001b[0;34m(self, input_dir, input_files, exclude, exclude_hidden, exclude_empty, errors, recursive, encoding, filename_as_id, required_exts, file_extractor, num_files_limit, file_metadata, raise_on_error, fs)\u001b[0m\n\u001b[1;32m    289\u001b[0m             \u001b[0mself\u001b[0m\u001b[0;34m.\u001b[0m\u001b[0minput_dir\u001b[0m \u001b[0;34m=\u001b[0m \u001b[0m_Path\u001b[0m\u001b[0;34m(\u001b[0m\u001b[0minput_dir\u001b[0m\u001b[0;34m)\u001b[0m\u001b[0;34m\u001b[0m\u001b[0;34m\u001b[0m\u001b[0m\n\u001b[1;32m    290\u001b[0m             \u001b[0mself\u001b[0m\u001b[0;34m.\u001b[0m\u001b[0mexclude\u001b[0m \u001b[0;34m=\u001b[0m \u001b[0mexclude\u001b[0m\u001b[0;34m\u001b[0m\u001b[0;34m\u001b[0m\u001b[0m\n\u001b[0;32m--> 291\u001b[0;31m             \u001b[0mself\u001b[0m\u001b[0;34m.\u001b[0m\u001b[0minput_files\u001b[0m \u001b[0;34m=\u001b[0m \u001b[0mself\u001b[0m\u001b[0;34m.\u001b[0m\u001b[0m_add_files\u001b[0m\u001b[0;34m(\u001b[0m\u001b[0mself\u001b[0m\u001b[0;34m.\u001b[0m\u001b[0minput_dir\u001b[0m\u001b[0;34m)\u001b[0m\u001b[0;34m\u001b[0m\u001b[0;34m\u001b[0m\u001b[0m\n\u001b[0m\u001b[1;32m    292\u001b[0m \u001b[0;34m\u001b[0m\u001b[0m\n\u001b[1;32m    293\u001b[0m         \u001b[0mself\u001b[0m\u001b[0;34m.\u001b[0m\u001b[0mfile_extractor\u001b[0m \u001b[0;34m=\u001b[0m \u001b[0mfile_extractor\u001b[0m \u001b[0;32mor\u001b[0m \u001b[0;34m{\u001b[0m\u001b[0;34m}\u001b[0m\u001b[0;34m\u001b[0m\u001b[0;34m\u001b[0m\u001b[0m\n",
            "\u001b[0;32m/usr/local/lib/python3.11/dist-packages/llama_index/core/readers/file/base.py\u001b[0m in \u001b[0;36m_add_files\u001b[0;34m(self, input_dir)\u001b[0m\n\u001b[1;32m    374\u001b[0m \u001b[0;34m\u001b[0m\u001b[0m\n\u001b[1;32m    375\u001b[0m         \u001b[0;32mif\u001b[0m \u001b[0mlen\u001b[0m\u001b[0;34m(\u001b[0m\u001b[0mnew_input_files\u001b[0m\u001b[0;34m)\u001b[0m \u001b[0;34m==\u001b[0m \u001b[0;36m0\u001b[0m\u001b[0;34m:\u001b[0m\u001b[0;34m\u001b[0m\u001b[0;34m\u001b[0m\u001b[0m\n\u001b[0;32m--> 376\u001b[0;31m             \u001b[0;32mraise\u001b[0m \u001b[0mValueError\u001b[0m\u001b[0;34m(\u001b[0m\u001b[0;34mf\"No files found in {input_dir}.\"\u001b[0m\u001b[0;34m)\u001b[0m\u001b[0;34m\u001b[0m\u001b[0;34m\u001b[0m\u001b[0m\n\u001b[0m\u001b[1;32m    377\u001b[0m \u001b[0;34m\u001b[0m\u001b[0m\n\u001b[1;32m    378\u001b[0m         \u001b[0;32mif\u001b[0m \u001b[0mself\u001b[0m\u001b[0;34m.\u001b[0m\u001b[0mnum_files_limit\u001b[0m \u001b[0;32mis\u001b[0m \u001b[0;32mnot\u001b[0m \u001b[0;32mNone\u001b[0m \u001b[0;32mand\u001b[0m \u001b[0mself\u001b[0m\u001b[0;34m.\u001b[0m\u001b[0mnum_files_limit\u001b[0m \u001b[0;34m>\u001b[0m \u001b[0;36m0\u001b[0m\u001b[0;34m:\u001b[0m\u001b[0;34m\u001b[0m\u001b[0;34m\u001b[0m\u001b[0m\n",
            "\u001b[0;31mValueError\u001b[0m: No files found in /tmp/tmpet7vpdr4."
          ]
        }
      ],
      "source": [
        "from llama_index.core import SimpleDirectoryReader\n",
        "\n",
        "dir_reader = SimpleDirectoryReader(\n",
        "    input_dir=tmp_dir_path,\n",
        "    file_extractor={\".pdf\": reader},\n",
        ")\n",
        "\n",
        "vector_store = MilvusVectorStore(\n",
        "    uri=str(Path(mkdtemp()) / \"docling.db\"),  # or set as needed\n",
        "    dim=embed_dim,\n",
        "    overwrite=True,\n",
        ")\n",
        "index = VectorStoreIndex.from_documents(\n",
        "    documents=dir_reader.load_data(SOURCE),\n",
        "    transformations=[node_parser],\n",
        "    storage_context=StorageContext.from_defaults(vector_store=vector_store),\n",
        "    embed_model=EMBED_MODEL,\n",
        ")\n",
        "result = index.as_query_engine(llm=GEN_MODEL).query(QUERY)\n",
        "print(f\"Q: {QUERY}\\nA: {result.response.strip()}\\n\\nSources:\")\n",
        "display([(n.text, n.metadata) for n in result.source_nodes])"
      ]
    },
    {
      "cell_type": "code",
      "execution_count": null,
      "metadata": {
        "id": "T1yzA21iIQZY"
      },
      "outputs": [],
      "source": []
    }
  ],
  "metadata": {
    "kernelspec": {
      "display_name": "Python 3",
      "name": "python3"
    },
    "language_info": {
      "codemirror_mode": {
        "name": "ipython",
        "version": 3
      },
      "file_extension": ".py",
      "mimetype": "text/x-python",
      "name": "python",
      "nbconvert_exporter": "python",
      "pygments_lexer": "ipython3",
      "version": "3.12.7"
    },
    "colab": {
      "provenance": [],
      "gpuType": "T4"
    },
    "accelerator": "GPU"
  },
  "nbformat": 4,
  "nbformat_minor": 0
}